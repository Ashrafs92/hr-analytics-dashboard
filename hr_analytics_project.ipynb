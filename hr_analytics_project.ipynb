{
 "cells": [
  {
   "cell_type": "markdown",
   "id": "7b8f4fff",
   "metadata": {},
   "source": [
    "# HR Analytics Dashboard Project\n",
    "This notebook explores attrition trends in HR data."
   ]
  },
  {
   "cell_type": "code",
   "execution_count": null,
   "id": "7138f3a5",
   "metadata": {},
   "outputs": [],
   "source": [
    "import pandas as pd\n",
    "import matplotlib.pyplot as plt\n",
    "\n",
    "# Load dataset\n",
    "df = pd.read_csv(\"hr_analytics_data.csv\")\n",
    "\n",
    "print(df.head())\n",
    "\n",
    "# Attrition by department\n",
    "df.groupby(\"Dept\")[\"Attrition\"].value_counts().unstack().plot(kind=\"bar\", stacked=True, title=\"Attrition by Department\")\n",
    "plt.show()\n",
    "\n",
    "# Attrition by age group\n",
    "df['AgeGroup'] = pd.cut(df['Age'], bins=[20,30,40,50,60], labels=[\"20-30\",\"31-40\",\"41-50\",\"51-60\"])\n",
    "df.groupby(\"AgeGroup\")[\"Attrition\"].value_counts().unstack().plot(kind=\"bar\", stacked=True, title=\"Attrition by Age Group\")\n",
    "plt.show()"
   ]
  }
 ],
 "metadata": {},
 "nbformat": 4,
 "nbformat_minor": 5
}